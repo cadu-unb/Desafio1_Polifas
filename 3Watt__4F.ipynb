{
 "cells": [
  {
   "cell_type": "code",
   "execution_count": 1,
   "id": "82eda144",
   "metadata": {},
   "outputs": [],
   "source": [
    "from services.num_fasor import NumFasor\n",
    "from services.wattimetro import Wattimetro\n",
    "import math\n",
    "import sympy as sp"
   ]
  },
  {
   "cell_type": "markdown",
   "id": "a2ad91b3",
   "metadata": {},
   "source": [
    "## 4 Fios"
   ]
  },
  {
   "cell_type": "code",
   "execution_count": 2,
   "id": "aed68136",
   "metadata": {},
   "outputs": [],
   "source": [
    "# Dados Fornecidos\n",
    "dV_fase = {\n",
    "    'a' : NumFasor(mod=220, gr=0), \n",
    "    'b' : NumFasor(mod=220, gr=-120), \n",
    "    'c' : NumFasor(mod=220, gr=120), \n",
    "}"
   ]
  },
  {
   "cell_type": "code",
   "execution_count": 3,
   "id": "0f26b289",
   "metadata": {},
   "outputs": [],
   "source": [
    "# Dados Fornecidos\n",
    "# I_L ≠ I_F\n",
    "\n",
    "dI_L = { # Tensão da Fase x /  Z_x ## Corrente de Linha\n",
    "    'a' : NumFasor(mod=77.7817, gr=-45.0000),\n",
    "    'b' : NumFasor(mod=31.1127, gr=-75.0000),\n",
    "    'c' : NumFasor(mod=40.8530, gr=98.1986),\n",
    "    'n' : NumFasor(mod=72.5644, gr=-37.9419),\n",
    "}"
   ]
  },
  {
   "cell_type": "code",
   "execution_count": 4,
   "id": "9df421af",
   "metadata": {},
   "outputs": [
    {
     "name": "stdout",
     "output_type": "stream",
     "text": [
      "\n",
      "Tensão de Fase\n",
      "a : 220.0000 ∠ 0.0000°\n",
      "b : 220.0000 ∠ -120.0000°\n",
      "c : 220.0000 ∠ 120.0000°\n"
     ]
    }
   ],
   "source": [
    "print('\\nTensão de Fase') #== Corrente de Fase:')\n",
    "for k in dV_fase.keys():\n",
    "    print(f'{k} : {dV_fase[k]}')"
   ]
  },
  {
   "cell_type": "code",
   "execution_count": 5,
   "id": "352c5ae1",
   "metadata": {},
   "outputs": [
    {
     "name": "stdout",
     "output_type": "stream",
     "text": [
      "\n",
      "Corrente de Linha\n",
      "a : 77.7817 ∠ -45.0000°\n",
      "b : 31.1127 ∠ -75.0000°\n",
      "c : 40.8530 ∠ 98.1986°\n",
      "n : 72.5644 ∠ -37.9419°\n"
     ]
    }
   ],
   "source": [
    "print('\\nCorrente de Linha') #== Corrente de Fase:')\n",
    "for k in dI_L.keys():\n",
    "    print(f'{k} : {dI_L[k]}')"
   ]
  },
  {
   "cell_type": "code",
   "execution_count": 6,
   "id": "6ecc0c23",
   "metadata": {},
   "outputs": [],
   "source": [
    "# Calcular Tensão de Fase-Fase\n",
    "dV_fase_fase = {\n",
    "    'ab' : dV_fase['a'] - dV_fase['b'], \n",
    "    'bc' : dV_fase['b'] - dV_fase['c'],\n",
    "    'ca' : dV_fase['c'] - dV_fase['a'],\n",
    "}\n",
    "# dV_fase_fase = {\n",
    "#     'ab' : NumFasor(mod=380, gr=30), \n",
    "#     'bc' : NumFasor(mod=380, gr=-90), \n",
    "#     'ca' : NumFasor(mod=380, gr=150), \n",
    "# }"
   ]
  },
  {
   "cell_type": "code",
   "execution_count": 7,
   "id": "596e0ca8",
   "metadata": {},
   "outputs": [
    {
     "name": "stdout",
     "output_type": "stream",
     "text": [
      "\n",
      "Tensão Fase-Fase\n",
      "ab : 381.0512 ∠ 30.0000°\n",
      "bc : 381.0512 ∠ -90.0000°\n",
      "ca : 381.0512 ∠ 150.0000°\n"
     ]
    }
   ],
   "source": [
    "print('\\nTensão Fase-Fase')\n",
    "for k in dV_fase_fase.keys():\n",
    "    print(f'{k} : {dV_fase_fase[k]}')"
   ]
  },
  {
   "cell_type": "code",
   "execution_count": 8,
   "id": "ad20fc84",
   "metadata": {},
   "outputs": [],
   "source": [
    "medidores = {}\n",
    "for n, i, v in [('w1', 'a', 'bc'), ('w2', 'b', 'ca'), ('w3', 'c', 'ab')]:\n",
    "        medidores[n] = Wattimetro(modI=dI_L[i].polar_r[0], modV=dV_fase_fase[v].polar_r[0], rad= dV_fase_fase[v].polar_r[1] - dI_L[i].polar_r[1] )"
   ]
  },
  {
   "cell_type": "code",
   "execution_count": 9,
   "id": "4b7cf003",
   "metadata": {},
   "outputs": [
    {
     "name": "stdout",
     "output_type": "stream",
     "text": [
      "\n",
      "Tensão Fase-Fase\n",
      "w1 : V = 381.0512, I = 77.7817, α = -45.0000° | w = 20957.8024 W\n",
      "w2 : V = 381.0512, I = 31.1127, α = 225.0000° | w = -8383.1263 W\n",
      "w3 : V = 381.0512, I = 40.8530, α = -68.1986° | w = 5781.4674 W\n"
     ]
    }
   ],
   "source": [
    "print('\\nTensão Fase-Fase')\n",
    "for k in medidores.keys():\n",
    "    print(f'{k} : {medidores[k]}')"
   ]
  },
  {
   "cell_type": "code",
   "execution_count": 10,
   "id": "cd6a336a",
   "metadata": {},
   "outputs": [
    {
     "data": {
      "text/plain": [
       "10597.924346265689"
      ]
     },
     "execution_count": 10,
     "metadata": {},
     "output_type": "execute_result"
    }
   ],
   "source": [
    "sum([ medidores[k] for k in medidores.keys()]) / (3**(1/2))"
   ]
  }
 ],
 "metadata": {
  "kernelspec": {
   "display_name": "Python 3",
   "language": "python",
   "name": "python3"
  },
  "language_info": {
   "codemirror_mode": {
    "name": "ipython",
    "version": 3
   },
   "file_extension": ".py",
   "mimetype": "text/x-python",
   "name": "python",
   "nbconvert_exporter": "python",
   "pygments_lexer": "ipython3",
   "version": "3.11.5"
  }
 },
 "nbformat": 4,
 "nbformat_minor": 5
}
