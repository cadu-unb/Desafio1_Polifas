{
 "cells": [
  {
   "cell_type": "code",
   "execution_count": 1,
   "id": "e5078281",
   "metadata": {},
   "outputs": [],
   "source": [
    "from services.num_fasor import NumFasor\n",
    "import math\n",
    "import sympy as sp"
   ]
  },
  {
   "cell_type": "code",
   "execution_count": 2,
   "id": "c1f7f368",
   "metadata": {},
   "outputs": [],
   "source": [
    "# Dados Fornecidos\n",
    "dV_fase = {\n",
    "    'a' : NumFasor(mod=220, gr=0), \n",
    "    'b' : NumFasor(mod=220, gr=-120), \n",
    "    'c' : NumFasor(mod=220, gr=120), \n",
    "}"
   ]
  },
  {
   "cell_type": "code",
   "execution_count": 3,
   "id": "1985fabb",
   "metadata": {},
   "outputs": [],
   "source": [
    "dZ = {\n",
    "    'a' : NumFasor(Rect=\"2 + 2j\"),\n",
    "    'b' : NumFasor(Rect=\"5 - 5j\"),\n",
    "    'c' : NumFasor(Rect=\"5 + 2j\"),\n",
    "}"
   ]
  },
  {
   "cell_type": "code",
   "execution_count": 4,
   "id": "84681eac",
   "metadata": {},
   "outputs": [],
   "source": [
    "dY = {\n",
    "    'a' : dZ['a']**(-1),\n",
    "    'b' : dZ['b']**(-1),\n",
    "    'c' : dZ['c']**(-1),\n",
    "}"
   ]
  },
  {
   "cell_type": "code",
   "execution_count": 5,
   "id": "a0a27259",
   "metadata": {},
   "outputs": [],
   "source": [
    "dV_fase['n'] = sum([ dV_fase[x]*dY[x] for x in ['a', \"b\", \"c\"]]) / sum([ dY[x] for x in ['a', \"b\", \"c\"]])"
   ]
  },
  {
   "cell_type": "code",
   "execution_count": 6,
   "id": "6d8c2232",
   "metadata": {},
   "outputs": [
    {
     "name": "stdout",
     "output_type": "stream",
     "text": [
      "\n",
      "Tensão de Fase:\n",
      "a : 220.0000 ∠ 0.0000°\n",
      "b : 220.0000 ∠ -120.0000°\n",
      "c : 220.0000 ∠ 120.0000°\n",
      "n : 128.1044 ∠ -15.2013°\n"
     ]
    }
   ],
   "source": [
    "print('\\nTensão de Fase:')\n",
    "for k in dV_fase.keys():\n",
    "    print(f'{k} : {dV_fase[k]}')"
   ]
  },
  {
   "cell_type": "code",
   "execution_count": 7,
   "id": "64e08113",
   "metadata": {},
   "outputs": [
    {
     "name": "stdout",
     "output_type": "stream",
     "text": [
      "\n",
      "Impedâncias:\n",
      "a : 2.8284 ∠ 45.0000°\n",
      "b : 7.0711 ∠ -45.0000°\n",
      "c : 5.3852 ∠ 21.8014°\n"
     ]
    }
   ],
   "source": [
    "print('\\nImpedâncias:')\n",
    "for k in dZ.keys():\n",
    "    print(f'{k} : {dZ[k]}')"
   ]
  },
  {
   "cell_type": "code",
   "execution_count": 8,
   "id": "1107d40f",
   "metadata": {},
   "outputs": [],
   "source": [
    "dV_fase_fase = {\n",
    "    'ab' : dV_fase['a'] * NumFasor(mod=math.sqrt(3), gr=30),\n",
    "    'bc' : dV_fase['b'] * NumFasor(mod=math.sqrt(3), gr=30),\n",
    "    'ca' : dV_fase['c'] * NumFasor(mod=math.sqrt(3), gr=30),\n",
    "}"
   ]
  },
  {
   "cell_type": "code",
   "execution_count": 9,
   "id": "c187d600",
   "metadata": {},
   "outputs": [
    {
     "name": "stdout",
     "output_type": "stream",
     "text": [
      "\n",
      "Admitâncias:\n",
      "a : 0.3536 ∠ -45.0000°\n",
      "b : 0.1414 ∠ 45.0000°\n",
      "c : 0.1857 ∠ -21.8014°\n"
     ]
    }
   ],
   "source": [
    "print('\\nAdmitâncias:')\n",
    "for k in dY.keys():\n",
    "    print(f'{k} : {dY[k]}')"
   ]
  },
  {
   "cell_type": "code",
   "execution_count": 10,
   "id": "7ee7cbd7",
   "metadata": {},
   "outputs": [],
   "source": [
    "# dV_fase_fase = {\n",
    "#     'ab' : NumFasor(mod=380, gr=30), \n",
    "#     'bc' : NumFasor(mod=380, gr=-90), \n",
    "#     'ca' : NumFasor(mod=380, gr=150), \n",
    "# }"
   ]
  },
  {
   "cell_type": "code",
   "execution_count": 11,
   "id": "7eacc235",
   "metadata": {},
   "outputs": [
    {
     "name": "stdout",
     "output_type": "stream",
     "text": [
      "\n",
      "Tensão de linha:\n",
      "ab : 381.0512 ∠ 30.0000°\n",
      "bc : 381.0512 ∠ -90.0000°\n",
      "ca : 381.0512 ∠ 150.0000°\n"
     ]
    }
   ],
   "source": [
    "print('\\nTensão de linha:')\n",
    "for k in dV_fase_fase.keys():\n",
    "    print(f'{k} : {dV_fase_fase[k]}')"
   ]
  },
  {
   "cell_type": "code",
   "execution_count": 12,
   "id": "ab966294",
   "metadata": {},
   "outputs": [],
   "source": [
    "# print('\\nArrendodar -- Tensão de linha:')\n",
    "# for k in dV_fase_fase.keys():\n",
    "#     print(f'{k} : {dV_fase_fase[k]}')"
   ]
  },
  {
   "cell_type": "code",
   "execution_count": 13,
   "id": "9e4adb0a",
   "metadata": {},
   "outputs": [],
   "source": [
    "dTensao_f_0 = {\n",
    "    \"a\" : dV_fase['a'] - dV_fase['n'],\n",
    "    \"b\" : dV_fase['b'] - dV_fase['n'],\n",
    "    \"c\" : dV_fase['c'] - dV_fase['n'],\n",
    "}"
   ]
  },
  {
   "cell_type": "code",
   "execution_count": 14,
   "id": "dfbde6df",
   "metadata": {},
   "outputs": [
    {
     "name": "stdout",
     "output_type": "stream",
     "text": [
      "\n",
      "Tensão de Fase-O:\n",
      "a : 102.0638 ∠ 19.2149°\n",
      "b : 281.4390 ∠ -146.1089°\n",
      "c : 323.7396 ∠ 136.1897°\n"
     ]
    }
   ],
   "source": [
    "print('\\nTensão de Fase-O:')\n",
    "for k in dTensao_f_0.keys():\n",
    "    print(f'{k} : {dTensao_f_0[k]}')"
   ]
  },
  {
   "cell_type": "code",
   "execution_count": 15,
   "id": "69bb884b",
   "metadata": {},
   "outputs": [],
   "source": [
    "# I_L = I_F\n",
    "\n",
    "dI = { # Tensão da Fase x - Tensão do n  /  Z_x\n",
    "    \"a\" : dTensao_f_0['a'] / dZ['a'],\n",
    "    \"b\" : dTensao_f_0['b'] / dZ['b'],\n",
    "    \"c\" : dTensao_f_0['c'] / dZ['c'],\n",
    "}"
   ]
  },
  {
   "cell_type": "code",
   "execution_count": 16,
   "id": "0cc81868",
   "metadata": {},
   "outputs": [
    {
     "name": "stdout",
     "output_type": "stream",
     "text": [
      "\n",
      "Corrente de Linha\n",
      "a : 36.0850 ∠ -25.7851°\n",
      "b : 39.8015 ∠ -101.1089°\n",
      "c : 60.1169 ∠ 114.3883°\n"
     ]
    }
   ],
   "source": [
    "print('\\nCorrente de Linha') #== Corrente de Fase:')\n",
    "for k in dI.keys():\n",
    "    print(f'{k} : {dI[k]}')"
   ]
  },
  {
   "cell_type": "code",
   "execution_count": 17,
   "id": "6871232d",
   "metadata": {},
   "outputs": [],
   "source": [
    "# S = V_Fase * CONJ( I_Fase )\n",
    "dPotencia_N = {\n",
    "    \"a\" : dTensao_f_0['a'] * dI['a'].conjugate(),\n",
    "    \"b\" : dTensao_f_0['b'] * dI['b'].conjugate(),\n",
    "    \"c\" : dTensao_f_0['c'] * dI['c'].conjugate(),\n",
    "}\n",
    "dPotencia_N['T'] = sum( [ dPotencia_N[x] for x in ['a', \"b\", \"c\"] ] )"
   ]
  },
  {
   "cell_type": "code",
   "execution_count": 18,
   "id": "7131c13d",
   "metadata": {},
   "outputs": [
    {
     "name": "stdout",
     "output_type": "stream",
     "text": [
      "\n",
      "Potências ~Neutro:\n",
      "a : 3682.9722 ∠ 45.0000°\n",
      "b : 11201.6910 ∠ -45.0000°\n",
      "c : 19462.2280 ∠ 21.8014°\n",
      "T : 28659.0924 ∠ 3.8245°\n"
     ]
    }
   ],
   "source": [
    "print('\\nPotências ~Neutro:')\n",
    "for k in dPotencia_N.keys():\n",
    "    print(f'{k} : {dPotencia_N[k]}')"
   ]
  },
  {
   "cell_type": "code",
   "execution_count": 19,
   "id": "d0dd76fc",
   "metadata": {},
   "outputs": [],
   "source": [
    "# S = V_Fase * CONJ( I_Fase )\n",
    "dPotencia = {\n",
    "    \"a\" : dV_fase['a'] * dI['a'].conjugate(),\n",
    "    \"b\" : dV_fase['b'] * dI['b'].conjugate(),\n",
    "    \"c\" : dV_fase['c'] * dI['c'].conjugate(),\n",
    "}\n",
    "dPotencia['T'] = sum( [ dPotencia[x] for x in ['a', \"b\", \"c\"] ] )"
   ]
  },
  {
   "cell_type": "code",
   "execution_count": 20,
   "id": "d91ec214",
   "metadata": {},
   "outputs": [
    {
     "name": "stdout",
     "output_type": "stream",
     "text": [
      "\n",
      "Potências:\n",
      "a : 7938.7002 ∠ 25.7851°\n",
      "b : 8756.3271 ∠ -18.8911°\n",
      "c : 13225.7241 ∠ 5.6117°\n",
      "T : 28659.0924 ∠ 3.8245°\n"
     ]
    }
   ],
   "source": [
    "print('\\nPotências:')\n",
    "for k in dPotencia.keys():\n",
    "    print(f'{k} : {dPotencia[k]}')"
   ]
  },
  {
   "cell_type": "code",
   "execution_count": 21,
   "id": "2fcda51e",
   "metadata": {},
   "outputs": [
    {
     "data": {
      "text/plain": [
       "(0.9977730953148148, 'ind')"
      ]
     },
     "execution_count": 21,
     "metadata": {},
     "output_type": "execute_result"
    }
   ],
   "source": [
    "dPotencia['T'].fator_potencia()"
   ]
  },
  {
   "cell_type": "code",
   "execution_count": 22,
   "id": "cd82755c",
   "metadata": {},
   "outputs": [
    {
     "data": {
      "text/plain": [
       "1911.5529285330458"
      ]
     },
     "execution_count": 22,
     "metadata": {},
     "output_type": "execute_result"
    }
   ],
   "source": [
    "dPotencia['T'].complex.imag"
   ]
  }
 ],
 "metadata": {
  "kernelspec": {
   "display_name": "Python 3",
   "language": "python",
   "name": "python3"
  },
  "language_info": {
   "codemirror_mode": {
    "name": "ipython",
    "version": 3
   },
   "file_extension": ".py",
   "mimetype": "text/x-python",
   "name": "python",
   "nbconvert_exporter": "python",
   "pygments_lexer": "ipython3",
   "version": "3.11.5"
  }
 },
 "nbformat": 4,
 "nbformat_minor": 5
}
