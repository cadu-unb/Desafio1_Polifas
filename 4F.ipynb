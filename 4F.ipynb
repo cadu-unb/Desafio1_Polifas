{
 "cells": [
  {
   "cell_type": "code",
   "execution_count": 1,
   "id": "e5078281",
   "metadata": {},
   "outputs": [],
   "source": [
    "from services.num_fasor import NumFasor\n",
    "import math\n",
    "import sympy as sp"
   ]
  },
  {
   "cell_type": "code",
   "execution_count": 2,
   "id": "c1f7f368",
   "metadata": {},
   "outputs": [],
   "source": [
    "# Dados Fornecidos\n",
    "dV_fase = {\n",
    "    'a' : NumFasor(mod=220, gr=0), \n",
    "    'b' : NumFasor(mod=220, gr=-120), \n",
    "    'c' : NumFasor(mod=220, gr=120), \n",
    "}"
   ]
  },
  {
   "cell_type": "code",
   "execution_count": 3,
   "id": "1985fabb",
   "metadata": {},
   "outputs": [],
   "source": [
    "dZ = {\n",
    "    'a' : NumFasor(Rect=\"2 + 2j\"),\n",
    "    'b' : NumFasor(Rect=\"5 - 5j\"),\n",
    "    'c' : NumFasor(Rect=\"5 + 2j\"),\n",
    "}"
   ]
  },
  {
   "cell_type": "code",
   "execution_count": 4,
   "id": "84681eac",
   "metadata": {},
   "outputs": [],
   "source": [
    "dY = {\n",
    "    'a' : dZ['a']**(-1),\n",
    "    'b' : dZ['b']**(-1),\n",
    "    'c' : dZ['c']**(-1),\n",
    "}"
   ]
  },
  {
   "cell_type": "code",
   "execution_count": 5,
   "id": "a0a27259",
   "metadata": {},
   "outputs": [],
   "source": [
    "dV_fase['n'] = sum([ dV_fase[x]*dY[x] for x in ['a', \"b\", \"c\"]]) / sum([ dY[x] for x in ['a', \"b\", \"c\"]])"
   ]
  },
  {
   "cell_type": "code",
   "execution_count": 6,
   "id": "6d8c2232",
   "metadata": {},
   "outputs": [
    {
     "name": "stdout",
     "output_type": "stream",
     "text": [
      "\n",
      "Tensão de Fase:\n",
      "a : 220.0000 ∠ 0.0000°\n",
      "b : 220.0000 ∠ -120.0000°\n",
      "c : 220.0000 ∠ 120.0000°\n",
      "n : 128.1044 ∠ -15.2013°\n"
     ]
    }
   ],
   "source": [
    "print('\\nTensão de Fase:')\n",
    "for k in dV_fase.keys():\n",
    "    print(f'{k} : {dV_fase[k]}')"
   ]
  },
  {
   "cell_type": "code",
   "execution_count": 7,
   "id": "64e08113",
   "metadata": {},
   "outputs": [
    {
     "name": "stdout",
     "output_type": "stream",
     "text": [
      "\n",
      "Impedâncias:\n",
      "a : 2.8284 ∠ 45.0000°\n",
      "b : 7.0711 ∠ -45.0000°\n",
      "c : 5.3852 ∠ 21.8014°\n"
     ]
    }
   ],
   "source": [
    "print('\\nImpedâncias:')\n",
    "for k in dZ.keys():\n",
    "    print(f'{k} : {dZ[k]}')"
   ]
  },
  {
   "cell_type": "code",
   "execution_count": 8,
   "id": "1107d40f",
   "metadata": {},
   "outputs": [],
   "source": [
    "dV_linha = {\n",
    "    'ab' : dV_fase['a'] * NumFasor(mod=math.sqrt(3), gr=30),\n",
    "    'bc' : dV_fase['b'] * NumFasor(mod=math.sqrt(3), gr=30),\n",
    "    'ca' : dV_fase['c'] * NumFasor(mod=math.sqrt(3), gr=30),\n",
    "}"
   ]
  },
  {
   "cell_type": "code",
   "execution_count": 9,
   "id": "c187d600",
   "metadata": {},
   "outputs": [
    {
     "name": "stdout",
     "output_type": "stream",
     "text": [
      "\n",
      "Adimitâncias:\n",
      "a : 0.3536 ∠ -45.0000°\n",
      "b : 0.1414 ∠ 45.0000°\n",
      "c : 0.1857 ∠ -21.8014°\n"
     ]
    }
   ],
   "source": [
    "print('\\nAdimitâncias:')\n",
    "for k in dY.keys():\n",
    "    print(f'{k} : {dY[k]}')"
   ]
  },
  {
   "cell_type": "code",
   "execution_count": 10,
   "id": "7eacc235",
   "metadata": {},
   "outputs": [
    {
     "name": "stdout",
     "output_type": "stream",
     "text": [
      "\n",
      "Tensão de linha:\n",
      "ab : 381.0512 ∠ 30.0000°\n",
      "bc : 381.0512 ∠ -90.0000°\n",
      "ca : 381.0512 ∠ 150.0000°\n"
     ]
    }
   ],
   "source": [
    "print('\\nTensão de linha:')\n",
    "for k in dV_linha.keys():\n",
    "    print(f'{k} : {dV_linha[k]}')"
   ]
  },
  {
   "cell_type": "code",
   "execution_count": 11,
   "id": "7ee7cbd7",
   "metadata": {},
   "outputs": [],
   "source": [
    "# dV_linha = {\n",
    "#     'ab' : NumFasor(mod=380, gr=30), \n",
    "#     'bc' : NumFasor(mod=380, gr=-90), \n",
    "#     'ca' : NumFasor(mod=380, gr=150), \n",
    "# }"
   ]
  },
  {
   "cell_type": "code",
   "execution_count": 12,
   "id": "ab966294",
   "metadata": {},
   "outputs": [],
   "source": [
    "# print('\\nArrendodar -- Tensão de linha:')\n",
    "# for k in dV_linha.keys():\n",
    "#     print(f'{k} : {dV_linha[k]}')"
   ]
  },
  {
   "cell_type": "code",
   "execution_count": 13,
   "id": "9e4adb0a",
   "metadata": {},
   "outputs": [],
   "source": [
    "# dTensao_f_0 = {\n",
    "#     \"a\" : dV_fase['a'] - dV_fase['n'],\n",
    "#     \"b\" : dV_fase['b'] - dV_fase['n'],\n",
    "#     \"c\" : dV_fase['c'] - dV_fase['n'],\n",
    "# }"
   ]
  },
  {
   "cell_type": "code",
   "execution_count": 14,
   "id": "dfbde6df",
   "metadata": {},
   "outputs": [],
   "source": [
    "# print('\\nTensão de Fase-O:')\n",
    "# for k in dTensao_f_0.keys():\n",
    "#     print(f'{k} : {dTensao_f_0[k]}')"
   ]
  },
  {
   "cell_type": "code",
   "execution_count": 15,
   "id": "69bb884b",
   "metadata": {},
   "outputs": [],
   "source": [
    "# I_L ≠ I_F\n",
    "\n",
    "dI_L = { ## Corrente de Linha\n",
    "    \"a\" : dV_fase['a'] / dZ['a'],\n",
    "    \"b\" : dV_fase['b'] / dZ['b'], \n",
    "    \"c\" : dV_fase['c'] / dZ['c'],\n",
    "}"
   ]
  },
  {
   "cell_type": "code",
   "execution_count": 16,
   "id": "106e358c",
   "metadata": {},
   "outputs": [],
   "source": [
    "dI_L['n'] = sum([ dI_L[x] for x in ['a', \"b\", \"c\"]])"
   ]
  },
  {
   "cell_type": "code",
   "execution_count": 17,
   "id": "0cc81868",
   "metadata": {},
   "outputs": [
    {
     "name": "stdout",
     "output_type": "stream",
     "text": [
      "\n",
      "Corrente de Linha\n",
      "a : 77.7817 ∠ -45.0000°\n",
      "b : 31.1127 ∠ -75.0000°\n",
      "c : 40.8530 ∠ 98.1986°\n",
      "n : 72.5644 ∠ -37.9419°\n"
     ]
    }
   ],
   "source": [
    "print('\\nCorrente de Linha') \n",
    "for k in dI_L.keys():\n",
    "    print(f'{k} : {dI_L[k]}')"
   ]
  },
  {
   "cell_type": "code",
   "execution_count": 18,
   "id": "b4b0f072",
   "metadata": {},
   "outputs": [],
   "source": [
    "dI_F = { # V_a - V_b ## Corrente de Fase\n",
    "    \"ab\" : dI_L['a'] - dI_L['b'],\n",
    "    \"bc\" : dI_L['b'] - dI_L['c'],\n",
    "    \"ca\" : dI_L['c'] - dI_L['a'],\n",
    "}"
   ]
  },
  {
   "cell_type": "code",
   "execution_count": 19,
   "id": "e551474e",
   "metadata": {},
   "outputs": [
    {
     "name": "stdout",
     "output_type": "stream",
     "text": [
      "\n",
      "Corrente de Fase\n",
      "ab : 53.1642 ∠ -27.9858°\n",
      "bc : 71.8413 ∠ -78.8615°\n",
      "ca : 113.1711 ∠ 122.5114°\n"
     ]
    }
   ],
   "source": [
    "print('\\nCorrente de Fase') #== Corrente de Fase:')\n",
    "for k in dI_F.keys():\n",
    "    print(f'{k} : {dI_F[k]}')"
   ]
  },
  {
   "cell_type": "code",
   "execution_count": 20,
   "id": "6871232d",
   "metadata": {},
   "outputs": [],
   "source": [
    "# # S = V_Fase * CONJ( I_Fase )\n",
    "# dPotencia_N = {\n",
    "#     \"a\" : dTensao_f_0['a'] * dI_L['a'].conjugate(),\n",
    "#     \"b\" : dTensao_f_0['b'] * dI_L['b'].conjugate(),\n",
    "#     \"c\" : dTensao_f_0['c'] * dI_L['c'].conjugate(),\n",
    "# }\n",
    "# dPotencia_N['T'] = sum( [ dPotencia_N[x] for x in ['a', \"b\", \"c\"] ] )"
   ]
  },
  {
   "cell_type": "code",
   "execution_count": 21,
   "id": "7131c13d",
   "metadata": {},
   "outputs": [],
   "source": [
    "# print('\\nPotências ~Neutro:')\n",
    "# for k in dPotencia_N.keys():\n",
    "#     print(f'{k} : {dPotencia_N[k]}')"
   ]
  },
  {
   "cell_type": "code",
   "execution_count": 22,
   "id": "d0dd76fc",
   "metadata": {},
   "outputs": [],
   "source": [
    "# S = V_Fase * CONJ( I_Fase )\n",
    "dPotencia = {\n",
    "    \"a\" : dV_fase['a'] * dI_L['a'].conjugate(),\n",
    "    \"b\" : dV_fase['b'] * dI_L['b'].conjugate(),\n",
    "    \"c\" : dV_fase['c'] * dI_L['c'].conjugate(),\n",
    "    \"n\" : dV_fase['n'] * dI_L['n'].conjugate(),\n",
    "}\n",
    "dPotencia['T'] = sum( [ dPotencia[x] for x in ['a', \"b\", \"c\"] ] ) - dPotencia['n']"
   ]
  },
  {
   "cell_type": "code",
   "execution_count": 23,
   "id": "d91ec214",
   "metadata": {},
   "outputs": [
    {
     "name": "stdout",
     "output_type": "stream",
     "text": [
      "\n",
      "Potências:\n",
      "a : 17111.9841 ∠ 45.0000°\n",
      "b : 6844.7936 ∠ -45.0000°\n",
      "c : 8987.6544 ∠ 21.8014°\n",
      "n : 9295.8164 ∠ 22.7406°\n",
      "T : 18120.2126 ∠ 22.7406°\n"
     ]
    }
   ],
   "source": [
    "print('\\nPotências:')\n",
    "for k in dPotencia.keys():\n",
    "    print(f'{k} : {dPotencia[k]}')"
   ]
  },
  {
   "cell_type": "code",
   "execution_count": 24,
   "id": "9819a0a9",
   "metadata": {},
   "outputs": [
    {
     "data": {
      "text/plain": [
       "(0.9222644005116287, 'ind')"
      ]
     },
     "execution_count": 24,
     "metadata": {},
     "output_type": "execute_result"
    }
   ],
   "source": [
    "dPotencia['T'].fator_potencia()"
   ]
  },
  {
   "cell_type": "code",
   "execution_count": 25,
   "id": "b6673d2a",
   "metadata": {},
   "outputs": [
    {
     "data": {
      "text/plain": [
       "7004.543348959587"
      ]
     },
     "execution_count": 25,
     "metadata": {},
     "output_type": "execute_result"
    }
   ],
   "source": [
    "dPotencia['T'].complex.imag"
   ]
  }
 ],
 "metadata": {
  "kernelspec": {
   "display_name": "Python 3",
   "language": "python",
   "name": "python3"
  },
  "language_info": {
   "codemirror_mode": {
    "name": "ipython",
    "version": 3
   },
   "file_extension": ".py",
   "mimetype": "text/x-python",
   "name": "python",
   "nbconvert_exporter": "python",
   "pygments_lexer": "ipython3",
   "version": "3.11.5"
  }
 },
 "nbformat": 4,
 "nbformat_minor": 5
}
